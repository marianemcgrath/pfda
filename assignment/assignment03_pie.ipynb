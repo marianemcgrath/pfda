{
 "cells": [
  {
   "cell_type": "markdown",
   "id": "bfa8d793",
   "metadata": {},
   "source": [
    "## Pie Chart Task\n",
    "Author: Mariane McGrath\n",
    "\n",
    "Brief - In this task I have created nice pie chart of peoples email domains in the csv file at the url:\n",
    "\n",
    "https://drive.google.com/uc?id=1AWPf-pJodJKeHsARQK_RHiNsE8fjPCVK&export=download\n",
    "\n",
    "The csv file has 1000 people.\n",
    "\n",
    "You should be able to see:\n",
    " - A pie chart that looks like a beautiful work of art...Enjoy!"
   ]
  },
  {
   "cell_type": "code",
   "execution_count": null,
   "id": "ded706fe",
   "metadata": {
    "vscode": {
     "languageId": "plaintext"
    }
   },
   "outputs": [],
   "source": []
  }
 ],
 "metadata": {
  "language_info": {
   "name": "python"
  }
 },
 "nbformat": 4,
 "nbformat_minor": 5
}
